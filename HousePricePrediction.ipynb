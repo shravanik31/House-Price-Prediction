{
  "nbformat": 4,
  "nbformat_minor": 0,
  "metadata": {
    "colab": {
      "provenance": []
    },
    "kernelspec": {
      "name": "python3",
      "display_name": "Python 3"
    },
    "language_info": {
      "name": "python"
    }
  },
  "cells": [
    {
      "cell_type": "code",
      "execution_count": null,
      "metadata": {
        "id": "cwisqyexCncO"
      },
      "outputs": [],
      "source": [
        "import pandas as pd\n",
        "import numpy as np\n",
        "import matplotlib.pyplot as plt\n",
        "import seaborn as sns\n",
        "from sklearn.linear_model import LinearRegression from sklearn.linear_model import SGDRegressor"
      ]
    },
    {
      "cell_type": "code",
      "source": [
        "dataset = pd.read_csv('Melbourne_housing_dataset.csv')"
      ],
      "metadata": {
        "id": "59r6QTe4Cuob"
      },
      "execution_count": null,
      "outputs": []
    },
    {
      "cell_type": "code",
      "source": [
        "dataset"
      ],
      "metadata": {
        "id": "yJWwQ70GCyxh"
      },
      "execution_count": null,
      "outputs": []
    },
    {
      "cell_type": "code",
      "source": [
        "dataset.shape"
      ],
      "metadata": {
        "id": "67viuikgC1j8"
      },
      "execution_count": null,
      "outputs": []
    },
    {
      "cell_type": "code",
      "source": [
        "dataset.describe()"
      ],
      "metadata": {
        "id": "2SIRwKJ1C3ej"
      },
      "execution_count": null,
      "outputs": []
    },
    {
      "cell_type": "code",
      "source": [
        "all_data_na = (dataset.isnull().sum() / len(dataset)) * 100\n",
        "all_data_na = all_data_na.drop(all_data_na[all_data_na == 0].index).sort_value s(ascending=False)[:30]\n",
        "missing_data = pd.DataFrame({'Missing Ratio' :all_data_na})\n",
        "missing_data"
      ],
      "metadata": {
        "id": "foFDoXFJC4Ns"
      },
      "execution_count": null,
      "outputs": []
    },
    {
      "cell_type": "code",
      "source": [
        "f, ax = plt.subplots(figsize=(15, 12))\n",
        "plt.xticks(rotation='90')\n",
        "sns.barplot(x=all_data_na.index, y=all_data_na)\n",
        "plt.xlabel('Features', fontsize=15)\n",
        "plt.ylabel('Percent of missing values', fontsize=15)\n",
        "plt.title('Percent missing data by feature', fontsize=15)"
      ],
      "metadata": {
        "id": "O8_G8A76C8Wj"
      },
      "execution_count": null,
      "outputs": []
    },
    {
      "cell_type": "code",
      "source": [
        "dataset = dataset[~ dataset.Price.isnull() ] ## Eliminated recores with \"Price\" null"
      ],
      "metadata": {
        "id": "LkzQSTXOC-wb"
      },
      "execution_count": null,
      "outputs": []
    },
    {
      "cell_type": "code",
      "source": [
        "dataset.reset_index(drop=True, inplace=True)"
      ],
      "metadata": {
        "id": "wA1K2F5IDA2i"
      },
      "execution_count": null,
      "outputs": []
    },
    {
      "cell_type": "code",
      "source": [
        "from sklearn.model_selection import ShuffleSplit\n",
        "shuffleSplit = ShuffleSplit(n_splits=1,test_size = 0.2 , random_state=42)\n",
        "\n",
        "for train_index, test_index in shuffleSplit.split(dataset):\n",
        "  training_set = dataset.loc[train_index]\n",
        "  test_set = dataset.loc[test_index]"
      ],
      "metadata": {
        "id": "MvMEEeYDDCgR"
      },
      "execution_count": null,
      "outputs": []
    },
    {
      "cell_type": "code",
      "source": [
        "training_set.isnull().any()"
      ],
      "metadata": {
        "id": "M1FgMnibDGuU"
      },
      "execution_count": null,
      "outputs": []
    },
    {
      "cell_type": "code",
      "source": [
        "training_set = training_set[~ training_set['Postcode'].isnull()]"
      ],
      "metadata": {
        "id": "8qwjMOCpDIWO"
      },
      "execution_count": null,
      "outputs": []
    },
    {
      "cell_type": "code",
      "source": [
        "test_set = test_set[~ test_set['Postcode'].isnull()]"
      ],
      "metadata": {
        "id": "QKFJiUstDJ4I"
      },
      "execution_count": null,
      "outputs": []
    },
    {
      "cell_type": "code",
      "source": [
        "training_set.drop([\"Address\", \"CouncilArea\", \"Regionname\", \"Lattitude\", \"Subur b\", \"Longtitude\",\"Type\",\"Method\",\"SellerG\",\"Date\"], axis=1, inplace=True)"
      ],
      "metadata": {
        "id": "BIJD0uV5DMPc"
      },
      "execution_count": null,
      "outputs": []
    },
    {
      "cell_type": "code",
      "source": [
        "test_set.drop([\"Address\", \"CouncilArea\", \"Regionname\", \"Lattitude\", \"Suburb\", \"Longtitude\",\"Type\",\"Method\",\"SellerG\",\"Date\"], axis=1, inplace=True)"
      ],
      "metadata": {
        "id": "PgMtFFs5DN5S"
      },
      "execution_count": null,
      "outputs": []
    },
    {
      "cell_type": "code",
      "source": [
        "training_set.select_dtypes(['float64','int64']).isnull().any()"
      ],
      "metadata": {
        "id": "dwHAYPQKDPGx"
      },
      "execution_count": null,
      "outputs": []
    },
    {
      "cell_type": "code",
      "source": [
        "training_set.Bedroom2.fillna(value=training_set.Bedroom2.mean(), inplace=True)\n",
        "training_set.Bathroom.fillna(value=training_set.Bathroom.mode()[0], inplace=True)\n",
        "training_set.Car.fillna(value=training_set.Car.median(), inplace=True)\n",
        "training_set.fillna(value= training_set.mean()[[\"BuildingArea\", \"YearBuilt\", \"Propertycount\"]], inplace=True)\n",
        "training_set[\"Landsize_log\"] = np.log(training_set[~training_set.Landsize.isnu ll() & training_set.Landsize > 0]['Landsize'])\n",
        "Landsize_log_mean = training_set[\"Landsize_log\"].mean()\n",
        "training_set[\"Landsize_log\"].fillna(value=Landsize_log_mean, inplace=True)\n",
        "training_set[\"Landsize_log\"] = training_set[\"Landsize_log\"].apply(lambda x: La ndsize_log_mean if x == 0 else x)\n",
        "training_set.drop('Landsize', axis=1, inplace=True)"
      ],
      "metadata": {
        "id": "8sJtrYgyDQ8v"
      },
      "execution_count": null,
      "outputs": []
    },
    {
      "cell_type": "code",
      "source": [
        "test_set.Bedroom2.fillna(value=test_set.Bedroom2.mean(), inplace=True)\n",
        "test_set.Bathroom.fillna(value=test_set.Bathroom.mode()[0], inplace=True)\n",
        "test_set.Car.fillna(value=test_set.Car.median(), inplace=True)\n",
        "test_set.fillna(value= test_set.mean()[[\"BuildingArea\", \"YearBuilt\", \"Property count\"]], inplace=True)\n",
        "test_set[\"Landsize_log\"] = np.log(test_set[~test_set.Landsize.isnull() & test_ set.Landsize > 0]['Landsize'])\n",
        "Landsize_log_mean = test_set[\"Landsize_log\"].mean()\n",
        "test_set[\"Landsize_log\"].fillna(value=Landsize_log_mean, inplace=True)\n",
        "test_set[\"Landsize_log\"] = test_set[\"Landsize_log\"].apply(lambda x: Landsize_l og_mean if x == 0 else x)\n",
        "test_set.drop('Landsize', axis=1, inplace=True)"
      ],
      "metadata": {
        "id": "vzPNaTYSDZ1v"
      },
      "execution_count": null,
      "outputs": []
    },
    {
      "cell_type": "code",
      "source": [
        "training_set.isnull().any()"
      ],
      "metadata": {
        "id": "78Uf_TzODhT3"
      },
      "execution_count": null,
      "outputs": []
    },
    {
      "cell_type": "code",
      "source": [
        "plt.figure(figsize=(14,6))\n",
        "dataset.plot(x='Lattitude', y='Longtitude', style='o')\n",
        "plt.title('Lattitude vs Longitutude')\n",
        "plt.xlabel('Lattitude')\n",
        "plt.ylabel('Longtitude')\n",
        "plt.show()"
      ],
      "metadata": {
        "id": "C7VyItyODjF7"
      },
      "execution_count": null,
      "outputs": []
    },
    {
      "cell_type": "code",
      "source": [
        "plt.figure(figsize=(14,6))\n",
        "plt.tight_layout()\n",
        "plt.title('Variations in Price')\n",
        "sns.distplot(dataset['Price'])"
      ],
      "metadata": {
        "id": "2CjWwzycDksR"
      },
      "execution_count": null,
      "outputs": []
    },
    {
      "cell_type": "code",
      "source": [
        "plt.figure(figsize=(14,6)) # Add title\n",
        "plt.title(\"Features Behaviour\")\n",
        "sns.lineplot(data=training_set['Rooms'], label=\"Rooms\")\n",
        "sns.lineplot(data=training_set['Bathroom'], label=\"Bathroom\")\n",
        "sns.lineplot(data=training_set['Bedroom2'], label=\"Bedroom2\")\n",
        "sns.lineplot(data=training_set['Car'], label=\"Car\")"
      ],
      "metadata": {
        "id": "kqVdW1LDDmqT"
      },
      "execution_count": null,
      "outputs": []
    },
    {
      "cell_type": "code",
      "source": [
        "plt.figure(figsize=(14,6))\n",
        "training_set.plot.scatter(x='Rooms', y='Price')\n",
        "plt.title('Relation with Rooms')"
      ],
      "metadata": {
        "id": "9YXEmNYlDoZU"
      },
      "execution_count": null,
      "outputs": []
    },
    {
      "cell_type": "code",
      "source": [
        "plt.figure(figsize=(14,6))\n",
        "sns.scatterplot(x=training_set['YearBuilt'], y=training_set['Price'], hue=trai\n",
        "ning_set['Rooms'])\n",
        "plt.title('Relation with YearBuilt')"
      ],
      "metadata": {
        "id": "NYyNtNDaDq_5"
      },
      "execution_count": null,
      "outputs": []
    },
    {
      "cell_type": "code",
      "source": [
        "input_features = [x for x in training_set.columns if x not in ['Price']]\n",
        "input_features1 = [x for x in test_set.columns if x not in ['Price']]"
      ],
      "metadata": {
        "id": "u8SQ4JgvDuIr"
      },
      "execution_count": null,
      "outputs": []
    },
    {
      "cell_type": "code",
      "source": [
        "X_train = training_set[input_features].values\n",
        "y_train = training_set['Price'].values\n",
        "X_test = test_set[input_features].values\n",
        "y_test = test_set['Price'].values"
      ],
      "metadata": {
        "id": "WBFAp7_uDwls"
      },
      "execution_count": null,
      "outputs": []
    },
    {
      "cell_type": "code",
      "source": [
        "lr = LinearRegression()\n",
        "lr_model = lr.fit(X_train,y_train)"
      ],
      "metadata": {
        "id": "NBbj_gwEDyKG"
      },
      "execution_count": null,
      "outputs": []
    },
    {
      "cell_type": "code",
      "source": [
        "y_train_pred = lr_model.predict(X_train)"
      ],
      "metadata": {
        "id": "HyM2qePQDzT6"
      },
      "execution_count": null,
      "outputs": []
    },
    {
      "cell_type": "code",
      "source": [
        "from sklearn.metrics import r2_score\n",
        "r2 = r2_score(y_train, y_train_pred)\n",
        "print(\"Score using Linear Regression : %f \" %(r2))"
      ],
      "metadata": {
        "id": "cJ-YWxVpD1AS"
      },
      "execution_count": null,
      "outputs": []
    },
    {
      "cell_type": "code",
      "source": [
        "test_set.isnull().any()"
      ],
      "metadata": {
        "id": "Yi95j-poD2W-"
      },
      "execution_count": null,
      "outputs": []
    },
    {
      "cell_type": "code",
      "source": [
        "y_test_pred = lr_model.predict(X_test)"
      ],
      "metadata": {
        "id": "pQjbs8inD3ma"
      },
      "execution_count": null,
      "outputs": []
    },
    {
      "cell_type": "code",
      "source": [
        "r2 = r2_score(y_test, y_test_pred)\n",
        "print(\"Score using Linear Regression : %f \" %(r2))"
      ],
      "metadata": {
        "id": "9SIzL7XMD8qX"
      },
      "execution_count": null,
      "outputs": []
    },
    {
      "cell_type": "code",
      "source": [
        "from sklearn.metrics import mean_absolute_error\n",
        "from sklearn.tree import DecisionTreeRegressor\n",
        "\n",
        "def get_mae(max_leaf_nodes, train_X, val_X, train_y, val_y):\n",
        "  model = DecisionTreeRegressor(max_leaf_nodes=max_leaf_nodes, random_state=0)\n",
        "  model.fit(X_train,y_train)\n",
        "  preds = model.predict(X_train)\n",
        "  r2 = r2_score(y_train, preds)\n",
        "  print(\"Score using DecisionTreeRegressor : %f \" %(r2))\n",
        "  mae = mean_absolute_error(y_train, preds)\n",
        "  return(mae)\n",
        "\n",
        "for max_leaf_nodes in [5, 50, 500, 5000]:\n",
        "  my_mae = get_mae(max_leaf_nodes, X_train,X_test,y_train,y_test)\n",
        "  print(\"Max leaf nodes: %d \\t\\t Mean Absolute Error: %d\" %(max_leaf_nodes, my_mae))"
      ],
      "metadata": {
        "id": "kCQnUUsFD-71"
      },
      "execution_count": null,
      "outputs": []
    },
    {
      "cell_type": "code",
      "source": [
        "model = DecisionTreeRegressor(max_leaf_nodes=500, random_state=0)\n",
        "model.fit(X_train,y_train)\n",
        "preds_val = model.predict(X_test)\n",
        "r2 = r2_score(y_test, preds_val)\n",
        "print(\"Score using DecisionTreeRegressor : %f \" %(r2))\n",
        "mae = mean_absolute_error(y_test, preds_val)\n",
        "print(\" Mean Absolute Error: %d\" %(mae))"
      ],
      "metadata": {
        "id": "hRHxOB3bEIRD"
      },
      "execution_count": null,
      "outputs": []
    },
    {
      "cell_type": "code",
      "source": [
        "from sklearn.ensemble import GradientBoostingRegressor\n",
        "gbrt = GradientBoostingRegressor(max_depth=4, n_estimators=300, learning_rate= 0.1, random_state=42)\n",
        "gbrt.fit(X_train, y_train)\n",
        "y_pred_gbrt = gbrt.predict(X_train)"
      ],
      "metadata": {
        "id": "2B45YpUTEMdS"
      },
      "execution_count": null,
      "outputs": []
    },
    {
      "cell_type": "code",
      "source": [
        "r2 = r2_score(y_train, y_pred_gbrt)\n",
        "print(\"Score using GradientBoostingRegressor : %f \" %(r2))"
      ],
      "metadata": {
        "id": "CXbK9jJSEPP6"
      },
      "execution_count": null,
      "outputs": []
    },
    {
      "cell_type": "code",
      "source": [
        "y_test_pred_gbrt = gbrt.predict(X_test)"
      ],
      "metadata": {
        "id": "AhMV4CNDEQYk"
      },
      "execution_count": null,
      "outputs": []
    },
    {
      "cell_type": "code",
      "source": [
        "r2 = r2_score(y_test, y_test_pred_gbrt)\n",
        "print(\"Score using GradientBoostingRegressor : %f \" %(r2))\n",
        "print(\"Mean Absolute Error: \" + str(mean_absolute_error( y_test_pred_gbrt, y_test)))"
      ],
      "metadata": {
        "id": "-ZLrmYNRER80"
      },
      "execution_count": null,
      "outputs": []
    },
    {
      "cell_type": "code",
      "source": [
        "from sklearn.model_selection import GridSearchCV\n",
        "\n",
        "param_grid = [\n",
        "    {'max_depth':[6,7,8],\n",
        "     'n_estimators':[300, 350],\n",
        "     'learning_rate':[0.09, 0.1, 0.11, 0.12]} ]\n",
        "\n",
        "grd_gbr_model = GradientBoostingRegressor(random_state=15)\n",
        "grid_search = GridSearchCV(grd_gbr_model, param_grid, cv=3, scoring='neg_mean_squared_error')\n",
        "grid_search.fit(X_train, y_train)"
      ],
      "metadata": {
        "id": "RjM1I3E4EVoZ"
      },
      "execution_count": null,
      "outputs": []
    },
    {
      "cell_type": "code",
      "source": [
        "grid_search.best_params_"
      ],
      "metadata": {
        "id": "7g5c1kuEEbZx"
      },
      "execution_count": null,
      "outputs": []
    },
    {
      "cell_type": "code",
      "source": [
        "best_y_pred_gbrt = grid_search.best_estimator_.predict(X_train)"
      ],
      "metadata": {
        "id": "4czoq5NpEccc"
      },
      "execution_count": null,
      "outputs": []
    },
    {
      "cell_type": "code",
      "source": [
        "r2 = r2_score(y_train, best_y_pred_gbrt)\n",
        "print(r2)"
      ],
      "metadata": {
        "id": "oj0NIEaYEd6u"
      },
      "execution_count": null,
      "outputs": []
    },
    {
      "cell_type": "code",
      "source": [
        "best_y_test_pred_gbrt = grid_search.best_estimator_.predict(X_test)"
      ],
      "metadata": {
        "id": "mGClwX3DEfK7"
      },
      "execution_count": null,
      "outputs": []
    },
    {
      "cell_type": "code",
      "source": [
        "r2 = r2_score(y_test, best_y_test_pred_gbrt)\n",
        "print(r2)"
      ],
      "metadata": {
        "id": "65hfctMBEl3S"
      },
      "execution_count": null,
      "outputs": []
    },
    {
      "cell_type": "code",
      "source": [
        "y_train_log = np.log(y_train)"
      ],
      "metadata": {
        "id": "fVnT4PBCEnzp"
      },
      "execution_count": null,
      "outputs": []
    },
    {
      "cell_type": "code",
      "source": [
        "y_test_log = np.log(y_test)"
      ],
      "metadata": {
        "id": "53d04SVhEo51"
      },
      "execution_count": null,
      "outputs": []
    },
    {
      "cell_type": "code",
      "source": [
        "from sklearn.model_selection import GridSearchCV param_grid = [\n",
        "    {'max_depth':[6,7],\n",
        "     'n_estimators':[300],\n",
        "     'learning_rate':[0.1, 0.11]} ]\n",
        "grd_gbr_model = GradientBoostingRegressor(random_state=15)\n",
        "grid_search = GridSearchCV(grd_gbr_model, param_grid, cv=3, scoring='neg_mean_squared_error')\n",
        "grid_search.fit(X_train, y_train_log)"
      ],
      "metadata": {
        "id": "qP-K-6k2Eq8Z"
      },
      "execution_count": null,
      "outputs": []
    },
    {
      "cell_type": "code",
      "source": [
        "grid_search.best_params_"
      ],
      "metadata": {
        "id": "FuBEf26uE6HX"
      },
      "execution_count": null,
      "outputs": []
    },
    {
      "cell_type": "code",
      "source": [
        "best_y_pred_gbrt_log = grid_search.best_estimator_.predict(X_train)"
      ],
      "metadata": {
        "id": "M-k9VUB7E7fi"
      },
      "execution_count": null,
      "outputs": []
    },
    {
      "cell_type": "code",
      "source": [
        "r2 = r2_score(y_train_log, best_y_pred_gbrt_log)\n",
        "print(\"Score using GradientBoostingRegressor : %f \" %(r2))"
      ],
      "metadata": {
        "id": "vvRtOopXE-cO"
      },
      "execution_count": null,
      "outputs": []
    },
    {
      "cell_type": "code",
      "source": [
        "best_y_test_pred_gbrt_log = grid_search.best_estimator_.predict(X_test)"
      ],
      "metadata": {
        "id": "4dUHz-XTFAXi"
      },
      "execution_count": null,
      "outputs": []
    },
    {
      "cell_type": "code",
      "source": [
        "r2 = r2_score(y_test_log, best_y_test_pred_gbrt_log)\n",
        "print(\"Score using GradientBoostingRegressor : %f \" %(r2))"
      ],
      "metadata": {
        "id": "b1i9J6N0FCH3"
      },
      "execution_count": null,
      "outputs": []
    },
    {
      "cell_type": "code",
      "source": [
        "from sklearn.ensemble import GradientBoostingRegressor\n",
        "gbrt1 = GradientBoostingRegressor(max_depth=3, n_estimators=500, learning_rate =0.4, random_state=45, min_samples_split= 2)\n",
        "gbrt1.fit(X_train, y_train)\n",
        "y_pred_gbrt = gbrt1.predict(X_train)"
      ],
      "metadata": {
        "id": "duZD1-eCFEdm"
      },
      "execution_count": null,
      "outputs": []
    },
    {
      "cell_type": "code",
      "source": [
        "r2 = r2_score(y_train, y_pred_gbrt)\n",
        "print(\"Score using GradientBoostingRegressor : %f \" %(r2))\n",
        "print(\"Mean Absolute Error: \" + str(mean_absolute_error( y_pred_gbrt, y_train )))"
      ],
      "metadata": {
        "id": "jNbzJpRkFHZg"
      },
      "execution_count": null,
      "outputs": []
    },
    {
      "cell_type": "code",
      "source": [
        "y_test_pred_gbrt = gbrt1.predict(X_test)"
      ],
      "metadata": {
        "id": "yDoye3y_FKyx"
      },
      "execution_count": null,
      "outputs": []
    },
    {
      "cell_type": "code",
      "source": [
        "r2 = r2_score(y_test, y_test_pred_gbrt)\n",
        "print(\"Score using GradientBoostingRegressor : %f \" %(r2))\n",
        "print(\"Mean Absolute Error: \" + str(mean_absolute_error( y_test_pred_gbrt, y_test)))"
      ],
      "metadata": {
        "id": "0Os-NXFeFMQu"
      },
      "execution_count": null,
      "outputs": []
    },
    {
      "cell_type": "code",
      "source": [
        "print(\"Prediction:\")\n",
        "X_new=[[5,25,3500,3,2,2,30000,2016,10000,8.9]]\n",
        "ynew=gbrt1.predict(X_new)\n",
        "print(ynew)"
      ],
      "metadata": {
        "id": "huwCFeulFTGf"
      },
      "execution_count": null,
      "outputs": []
    }
  ]
}